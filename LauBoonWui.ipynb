{
  "metadata": {
    "language_info": {
      "codemirror_mode": {
        "name": "python",
        "version": 3
      },
      "file_extension": ".py",
      "mimetype": "text/x-python",
      "name": "python",
      "nbconvert_exporter": "python",
      "pygments_lexer": "ipython3",
      "version": "3.8"
    },
    "kernelspec": {
      "name": "python",
      "display_name": "Python (Pyodide)",
      "language": "python"
    }
  },
  "nbformat_minor": 4,
  "nbformat": 4,
  "cells": [
    {
      "cell_type": "markdown",
      "source": "# (My Jupyter Notebook on IBM Watson Studio)",
      "metadata": {}
    },
    {
      "cell_type": "markdown",
      "source": "__LAU BOON WUI__<br> Derivative Dealer",
      "metadata": {}
    },
    {
      "cell_type": "markdown",
      "source": "_I am interested in data science because I like to use data to find insights to make decisions, for example trading stocks._",
      "metadata": {}
    },
    {
      "cell_type": "markdown",
      "source": "### (The following codes will calculate 1+1 = )",
      "metadata": {}
    },
    {
      "cell_type": "code",
      "source": "1+1",
      "metadata": {
        "trusted": true
      },
      "execution_count": 3,
      "outputs": [
        {
          "execution_count": 3,
          "output_type": "execute_result",
          "data": {
            "text/plain": "2"
          },
          "metadata": {}
        }
      ]
    },
    {
      "cell_type": "markdown",
      "source": "<br> - bullet point 1 <br> - bullet point 2 <br> - bullet point 3 <br> 1. number1 <br> 2. number 2\n|column 1| Column 2 | Column 3 |\n| --- | --- | --- |\n| A | B | C |",
      "metadata": {}
    },
    {
      "cell_type": "code",
      "source": "",
      "metadata": {},
      "execution_count": null,
      "outputs": []
    }
  ]
}